{
 "cells": [
  {
   "cell_type": "code",
   "execution_count": 43,
   "id": "218eb13f-5df2-4d2b-a372-6a8eb5511520",
   "metadata": {},
   "outputs": [],
   "source": [
    "# String Manipulations\n",
    "# All lists have x= []\n",
    "# All dictionary have x= { index : item}\n",
    "# All tuples have x= ()"
   ]
  },
  {
   "cell_type": "code",
   "execution_count": 4,
   "id": "9c181c4a-e9b5-4a8b-b53a-a1ff8cc58a1b",
   "metadata": {},
   "outputs": [],
   "source": [
    "x = \"Shreyas\""
   ]
  },
  {
   "cell_type": "code",
   "execution_count": 8,
   "id": "63145332-ec37-4789-8efd-a091e1eefd1d",
   "metadata": {},
   "outputs": [],
   "source": [
    "y= f\"my name is {x}\""
   ]
  },
  {
   "cell_type": "code",
   "execution_count": 10,
   "id": "ccc2ec90-d2e7-4b5c-b79d-8570cc09a303",
   "metadata": {},
   "outputs": [
    {
     "name": "stdout",
     "output_type": "stream",
     "text": [
      "my name is Shreyas\n"
     ]
    }
   ],
   "source": [
    "print (y)"
   ]
  },
  {
   "cell_type": "code",
   "execution_count": 14,
   "id": "3bbc9d75-a97c-4b98-b82c-e13f55376a88",
   "metadata": {},
   "outputs": [],
   "source": [
    "xx = \"21\""
   ]
  },
  {
   "cell_type": "code",
   "execution_count": 16,
   "id": "bcf402d3-88b2-48b5-bbc7-7dbd93a716b2",
   "metadata": {},
   "outputs": [],
   "source": [
    "z = f\"{y} and my age is {xx}\""
   ]
  },
  {
   "cell_type": "code",
   "execution_count": 18,
   "id": "144ec578-5e7a-46d4-895a-cde739a70be8",
   "metadata": {},
   "outputs": [
    {
     "name": "stdout",
     "output_type": "stream",
     "text": [
      "21 and my age is 21\n"
     ]
    }
   ],
   "source": [
    "print (z)"
   ]
  },
  {
   "cell_type": "code",
   "execution_count": 20,
   "id": "30436d8d-c4be-4689-9331-d9ebe425b72d",
   "metadata": {},
   "outputs": [],
   "source": [
    "y= f\"my name is {x}\"\n",
    "xx = \"21\"\n",
    "z = f\"{y} and my age is {xx}\""
   ]
  },
  {
   "cell_type": "code",
   "execution_count": 22,
   "id": "cbf4721a-b05b-4f00-936a-40f820a57a8a",
   "metadata": {},
   "outputs": [
    {
     "name": "stdout",
     "output_type": "stream",
     "text": [
      "my name is Shreyas and my age is 21\n"
     ]
    }
   ],
   "source": [
    "print (z)\n"
   ]
  },
  {
   "cell_type": "code",
   "execution_count": 34,
   "id": "facca448-79be-4774-8ef4-10c51e3f10a6",
   "metadata": {},
   "outputs": [],
   "source": [
    "h= [\"football\", \"cricket\"]\n",
    "t = f\" and my hobbies are {h[0]} and {h[1]} \""
   ]
  },
  {
   "cell_type": "code",
   "execution_count": 36,
   "id": "871657f2-a137-4d7c-b993-e0b7b872fe06",
   "metadata": {},
   "outputs": [
    {
     "name": "stdout",
     "output_type": "stream",
     "text": [
      "my name is Shreyas and my age is 21  and my hobbies are football and cricket \n"
     ]
    }
   ],
   "source": [
    "print (z + \" \" + t)"
   ]
  },
  {
   "cell_type": "code",
   "execution_count": 39,
   "id": "463b7e7c-0267-4728-a38b-6b9844befae3",
   "metadata": {},
   "outputs": [
    {
     "name": "stdout",
     "output_type": "stream",
     "text": [
      "e wat\n"
     ]
    }
   ],
   "source": [
    "x = 'save water'\n",
    "print (x[3:8])"
   ]
  },
  {
   "cell_type": "code",
   "execution_count": null,
   "id": "588e9a32-9349-42ba-a1b6-50c8959876c1",
   "metadata": {},
   "outputs": [],
   "source": []
  }
 ],
 "metadata": {
  "kernelspec": {
   "display_name": "Python 3 (ipykernel)",
   "language": "python",
   "name": "python3"
  },
  "language_info": {
   "codemirror_mode": {
    "name": "ipython",
    "version": 3
   },
   "file_extension": ".py",
   "mimetype": "text/x-python",
   "name": "python",
   "nbconvert_exporter": "python",
   "pygments_lexer": "ipython3",
   "version": "3.12.4"
  }
 },
 "nbformat": 4,
 "nbformat_minor": 5
}
